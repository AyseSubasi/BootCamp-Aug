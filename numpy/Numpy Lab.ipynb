{
 "cells": [
  {
   "cell_type": "code",
   "execution_count": 2,
   "id": "f4cd048e",
   "metadata": {},
   "outputs": [],
   "source": [
    "import numpy as np"
   ]
  },
  {
   "cell_type": "code",
   "execution_count": 3,
   "id": "34ba208f",
   "metadata": {},
   "outputs": [
    {
     "data": {
      "text/plain": [
       "'1.20.3'"
      ]
     },
     "execution_count": 3,
     "metadata": {},
     "output_type": "execute_result"
    }
   ],
   "source": [
    "#version\n",
    "np.__version__"
   ]
  },
  {
   "cell_type": "code",
   "execution_count": 4,
   "id": "a6dc57db",
   "metadata": {},
   "outputs": [
    {
     "data": {
      "text/plain": [
       "array([0., 0., 0., 0., 0., 0., 0., 0., 0., 0.])"
      ]
     },
     "execution_count": 4,
     "metadata": {},
     "output_type": "execute_result"
    }
   ],
   "source": [
    "np.zeros(10)"
   ]
  },
  {
   "cell_type": "code",
   "execution_count": 8,
   "id": "4e2351c3",
   "metadata": {},
   "outputs": [
    {
     "name": "stdout",
     "output_type": "stream",
     "text": [
      "[1 2 3 4]\n"
     ]
    },
    {
     "data": {
      "text/plain": [
       "4"
      ]
     },
     "execution_count": 8,
     "metadata": {},
     "output_type": "execute_result"
    }
   ],
   "source": [
    "# 4. How to find the memory size of any array \n",
    "x=np.array([1,2,3,4])\n",
    "print(x)\n",
    "\n",
    "x.size"
   ]
  },
  {
   "cell_type": "code",
   "execution_count": 9,
   "id": "6ba81c2b",
   "metadata": {},
   "outputs": [
    {
     "data": {
      "text/plain": [
       "<function numpy.info(object=None, maxwidth=76, output=<ipykernel.iostream.OutStream object at 0x7fa7aea88760>, toplevel='numpy')>"
      ]
     },
     "execution_count": 9,
     "metadata": {},
     "output_type": "execute_result"
    }
   ],
   "source": [
    "# 5. How to get the documentation of the numpy add function from the command line?\n",
    "\n",
    "np.info\n"
   ]
  },
  {
   "cell_type": "code",
   "execution_count": 20,
   "id": "25a00ee8",
   "metadata": {},
   "outputs": [
    {
     "name": "stdout",
     "output_type": "stream",
     "text": [
      "[0. 0. 0. 0. 1. 0. 0. 0. 0. 0.]\n"
     ]
    }
   ],
   "source": [
    "# 6. Create a null vector of size 10 but the fifth value which is 1\n",
    "\n",
    "\n",
    "x1=np.array(np.zeros(10))\n",
    "x1[4]=1\n",
    "\n",
    "print(x1)\n"
   ]
  },
  {
   "cell_type": "code",
   "execution_count": 24,
   "id": "292ba824",
   "metadata": {},
   "outputs": [
    {
     "data": {
      "text/plain": [
       "array([10, 11, 12, 13, 14, 15, 16, 17, 18, 19, 20, 21, 22, 23, 24, 25, 26,\n",
       "       27, 28, 29, 30, 31, 32, 33, 34, 35, 36, 37, 38, 39, 40, 41, 42, 43,\n",
       "       44, 45, 46, 47, 48])"
      ]
     },
     "execution_count": 24,
     "metadata": {},
     "output_type": "execute_result"
    }
   ],
   "source": [
    "# 7. Create a vector with values ranging from 10 to 49\n",
    "\n",
    "x2= np.arange(10,49)\n",
    "x2"
   ]
  },
  {
   "cell_type": "code",
   "execution_count": 25,
   "id": "96d45a47",
   "metadata": {},
   "outputs": [
    {
     "data": {
      "text/plain": [
       "array([48, 47, 46, 45, 44, 43, 42, 41, 40, 39, 38, 37, 36, 35, 34, 33, 32,\n",
       "       31, 30, 29, 28, 27, 26, 25, 24, 23, 22, 21, 20, 19, 18, 17, 16, 15,\n",
       "       14, 13, 12, 11, 10])"
      ]
     },
     "execution_count": 25,
     "metadata": {},
     "output_type": "execute_result"
    }
   ],
   "source": [
    "# 8. Reverse a vector (first element becomes last)\n",
    "\n",
    "x3= np.arange(10,49)\n",
    "x3[: :-1]\n"
   ]
  },
  {
   "cell_type": "code",
   "execution_count": 28,
   "id": "931108c8",
   "metadata": {},
   "outputs": [
    {
     "name": "stdout",
     "output_type": "stream",
     "text": [
      "[[0 1 2]\n",
      " [3 4 5]\n",
      " [6 7 8]]\n"
     ]
    }
   ],
   "source": [
    "# 9. Create a 3x3 matrix with values ranging from 0 to 8\n",
    "\n",
    "\n",
    "x4=np.arange(0,9)\n",
    "\n",
    "x4\n",
    "\n",
    "print(np.reshape(x4,(3,3)))"
   ]
  },
  {
   "cell_type": "code",
   "execution_count": 32,
   "id": "00f75d9f",
   "metadata": {},
   "outputs": [
    {
     "data": {
      "text/plain": [
       "(array([0, 1, 4]),)"
      ]
     },
     "execution_count": 32,
     "metadata": {},
     "output_type": "execute_result"
    }
   ],
   "source": [
    "# 10. Find indices of non-zero elements from [1,2,0,0,4,0] \n",
    "\n",
    "x5=np.array([1,2,0,0,4,0])\n",
    "\n",
    "np.nonzero(x5)\n"
   ]
  },
  {
   "cell_type": "code",
   "execution_count": 33,
   "id": "f0c523aa",
   "metadata": {},
   "outputs": [
    {
     "data": {
      "text/plain": [
       "array([[1., 0., 0.],\n",
       "       [0., 1., 0.],\n",
       "       [0., 0., 1.]])"
      ]
     },
     "execution_count": 33,
     "metadata": {},
     "output_type": "execute_result"
    }
   ],
   "source": [
    "#11 Create a 3x3 identity matrix \n",
    "\n",
    "np.eye(3)"
   ]
  },
  {
   "cell_type": "code",
   "execution_count": 37,
   "id": "72f72c1b",
   "metadata": {},
   "outputs": [
    {
     "data": {
      "text/plain": [
       "array([[[0.07069701, 0.87764156, 0.61893187],\n",
       "        [0.28547027, 0.57153268, 0.50672179],\n",
       "        [0.82575621, 0.34632816, 0.03391916]],\n",
       "\n",
       "       [[0.91548722, 0.45081368, 0.42785103],\n",
       "        [0.23436096, 0.87175454, 0.87729835],\n",
       "        [0.48046206, 0.10604601, 0.47676744]],\n",
       "\n",
       "       [[0.85352963, 0.5946588 , 0.23911355],\n",
       "        [0.94605503, 0.04079053, 0.72387167],\n",
       "        [0.22073519, 0.19447084, 0.76464593]]])"
      ]
     },
     "execution_count": 37,
     "metadata": {},
     "output_type": "execute_result"
    }
   ],
   "source": [
    "#. Create a 3x3x3 array with random values \n",
    "\n",
    "np.random.random((3,3,3))"
   ]
  },
  {
   "cell_type": "code",
   "execution_count": 53,
   "id": "5e319ea5",
   "metadata": {},
   "outputs": [
    {
     "name": "stdout",
     "output_type": "stream",
     "text": [
      "[[0.16391531 0.68510969 0.08355524 0.34940342 0.50748095 0.64793151\n",
      "  0.71464937 0.36122423 0.16946877 0.53740869]\n",
      " [0.00951657 0.95500111 0.40606535 0.36096232 0.82692436 0.19285335\n",
      "  0.60482028 0.25720757 0.83676832 0.89018533]\n",
      " [0.60734896 0.50365812 0.53090203 0.44185645 0.65798759 0.15174235\n",
      "  0.95787019 0.97159845 0.88496156 0.375052  ]\n",
      " [0.25595788 0.16062276 0.19990663 0.90811809 0.72030785 0.86260007\n",
      "  0.12517803 0.01660334 0.28297301 0.41863889]\n",
      " [0.54068062 0.49064876 0.82285862 0.62733632 0.89632198 0.37145706\n",
      "  0.45170089 0.11965052 0.7553542  0.28368534]\n",
      " [0.03421134 0.91270051 0.95432581 0.26896309 0.49619274 0.03864439\n",
      "  0.18765804 0.36092956 0.04756505 0.35055664]\n",
      " [0.83081102 0.49722095 0.63338845 0.67528026 0.94402083 0.23370769\n",
      "  0.4762209  0.84847478 0.30662659 0.30288932]\n",
      " [0.38955386 0.74305751 0.36226083 0.55352497 0.79705828 0.90929925\n",
      "  0.37203846 0.46616287 0.63782021 0.80214783]\n",
      " [0.34338667 0.78871152 0.82168893 0.95193782 0.89163499 0.5145007\n",
      "  0.08987521 0.13767512 0.14265207 0.87766458]\n",
      " [0.50193554 0.25895769 0.90923233 0.27700222 0.158482   0.36980939\n",
      "  0.88842565 0.01442036 0.98132422 0.89890551]]\n",
      "0.0095165748211401\n",
      "0.9813242164167872\n"
     ]
    }
   ],
   "source": [
    "#13. Create a 10x10 array with random values and find the minimum and maximum values \n",
    "\n",
    "x7= np.random.random((10,10))\n",
    "\n",
    "print(x7)\n",
    "\n",
    "print(x7.min())\n",
    "print(x7.max())\n",
    "\n"
   ]
  },
  {
   "cell_type": "code",
   "execution_count": 55,
   "id": "ce383e36",
   "metadata": {},
   "outputs": [
    {
     "name": "stdout",
     "output_type": "stream",
     "text": [
      "0.5025474685251242\n"
     ]
    }
   ],
   "source": [
    "#14. Create a random vector of size 30 and find the mean value \n",
    "\n",
    "x_1=np.random.random(30)\n",
    "\n",
    "x_mean=np.mean(x_1)\n",
    "\n",
    "print(x_mean)"
   ]
  },
  {
   "cell_type": "code",
   "execution_count": 60,
   "id": "66b5fa78",
   "metadata": {},
   "outputs": [
    {
     "name": "stdout",
     "output_type": "stream",
     "text": [
      "[[1. 1.]\n",
      " [1. 1.]]\n"
     ]
    }
   ],
   "source": [
    "#15. Create a 2d array with 1 on the border and 0 inside\n",
    "x_2=np.ones((2,2))\n",
    "\n",
    "x_2[1:-1, 1:-1]=0\n",
    "\n",
    "print(x_2)"
   ]
  },
  {
   "cell_type": "code",
   "execution_count": 62,
   "id": "3673b2ae",
   "metadata": {},
   "outputs": [
    {
     "data": {
      "text/plain": [
       "array([[0., 0., 0., 0.],\n",
       "       [0., 1., 1., 0.],\n",
       "       [0., 1., 1., 0.],\n",
       "       [0., 0., 0., 0.]])"
      ]
     },
     "execution_count": 62,
     "metadata": {},
     "output_type": "execute_result"
    }
   ],
   "source": [
    "#16. How to add a border (filled with 0's) around an existing array? \n",
    "\n",
    "x_3=np.pad(x_2,pad_width=1, mode='constant',constant_values=0)\n",
    "x_3"
   ]
  },
  {
   "cell_type": "markdown",
   "id": "7c144b51",
   "metadata": {},
   "source": [
    "#17. What is the result of the following expression? \n",
    "\n",
    "0 * np.nan\n",
    " np.nan == np.nan\n",
    "np.inf > np.nan\n",
    "np.nan - np.nan\n",
    "np.nan in set([np.nan])\n",
    "0.3 == 3 * 0.1\n",
    "\n",
    "#nan = not a number"
   ]
  },
  {
   "cell_type": "code",
   "execution_count": 69,
   "id": "507489ef",
   "metadata": {},
   "outputs": [
    {
     "name": "stdout",
     "output_type": "stream",
     "text": [
      "nan\n"
     ]
    }
   ],
   "source": [
    "print(0 * np.nan)"
   ]
  },
  {
   "cell_type": "code",
   "execution_count": 70,
   "id": "b81497ad",
   "metadata": {},
   "outputs": [
    {
     "data": {
      "text/plain": [
       "False"
      ]
     },
     "execution_count": 70,
     "metadata": {},
     "output_type": "execute_result"
    }
   ],
   "source": [
    "np.nan == np.nan"
   ]
  },
  {
   "cell_type": "code",
   "execution_count": 75,
   "id": "fe77417f",
   "metadata": {},
   "outputs": [
    {
     "data": {
      "text/plain": [
       "nan"
      ]
     },
     "execution_count": 75,
     "metadata": {},
     "output_type": "execute_result"
    }
   ],
   "source": [
    "np.nan - np.nan"
   ]
  },
  {
   "cell_type": "code",
   "execution_count": 72,
   "id": "2168c8ec",
   "metadata": {},
   "outputs": [
    {
     "data": {
      "text/plain": [
       "True"
      ]
     },
     "execution_count": 72,
     "metadata": {},
     "output_type": "execute_result"
    }
   ],
   "source": [
    "np.nan in set([np.nan])"
   ]
  },
  {
   "cell_type": "code",
   "execution_count": 73,
   "id": "186b4b5d",
   "metadata": {},
   "outputs": [
    {
     "data": {
      "text/plain": [
       "False"
      ]
     },
     "execution_count": 73,
     "metadata": {},
     "output_type": "execute_result"
    }
   ],
   "source": [
    "0.3 == 3 * 0.1"
   ]
  },
  {
   "cell_type": "code",
   "execution_count": 102,
   "id": "92b90a23",
   "metadata": {},
   "outputs": [
    {
     "name": "stdout",
     "output_type": "stream",
     "text": [
      "[1 2 3 4]\n"
     ]
    },
    {
     "data": {
      "text/plain": [
       "array([[0, 0, 0, 0, 0],\n",
       "       [1, 0, 0, 0, 0],\n",
       "       [0, 2, 0, 0, 0],\n",
       "       [0, 0, 3, 0, 0],\n",
       "       [0, 0, 0, 4, 0]])"
      ]
     },
     "execution_count": 102,
     "metadata": {},
     "output_type": "execute_result"
    }
   ],
   "source": [
    "# 18. Create a 5x5 matrix with values 1,2,3,4 just below the diagonal\n",
    "x_diag=np.array([1,2,3,4])\n",
    "print(x_diag)\n",
    "np.diag(x_diag, k=-1)\n"
   ]
  },
  {
   "cell_type": "code",
   "execution_count": 130,
   "id": "9eb55a16",
   "metadata": {},
   "outputs": [
    {
     "name": "stdout",
     "output_type": "stream",
     "text": [
      "[[1. 0. 1. 0. 1. 0. 1. 0.]\n",
      " [0. 1. 0. 1. 0. 1. 0. 1.]\n",
      " [1. 0. 1. 0. 1. 0. 1. 0.]\n",
      " [0. 1. 0. 1. 0. 1. 0. 1.]\n",
      " [1. 0. 1. 0. 1. 0. 1. 0.]\n",
      " [0. 1. 0. 1. 0. 1. 0. 1.]\n",
      " [1. 0. 1. 0. 1. 0. 1. 0.]\n",
      " [0. 1. 0. 1. 0. 1. 0. 1.]]\n"
     ]
    }
   ],
   "source": [
    "## 19. Create a 8x8 matrix and fill it with a checkerboard pattern \n",
    "x_checkb=np.ones((8,8))\n",
    "x_checkb[1::2, ::2]=0\n",
    "x_checkb[::2, 1::2]=0\n",
    "\n",
    "print(x_checkb)"
   ]
  },
  {
   "cell_type": "code",
   "execution_count": 131,
   "id": "705283d9",
   "metadata": {},
   "outputs": [
    {
     "data": {
      "text/plain": [
       "(1, 5, 4)"
      ]
     },
     "execution_count": 131,
     "metadata": {},
     "output_type": "execute_result"
    }
   ],
   "source": [
    "## 20. Consider a (6,7,8) shape array, what is the index (x,y,z) of the 100th element?\n",
    "\n",
    "x_x=np.unravel_index(100,(6,7,8))\n",
    "\n",
    "x_x"
   ]
  },
  {
   "cell_type": "code",
   "execution_count": null,
   "id": "469840c0",
   "metadata": {},
   "outputs": [],
   "source": []
  }
 ],
 "metadata": {
  "kernelspec": {
   "display_name": "Python 3",
   "language": "python",
   "name": "python3"
  },
  "language_info": {
   "codemirror_mode": {
    "name": "ipython",
    "version": 3
   },
   "file_extension": ".py",
   "mimetype": "text/x-python",
   "name": "python",
   "nbconvert_exporter": "python",
   "pygments_lexer": "ipython3",
   "version": "3.8.8"
  }
 },
 "nbformat": 4,
 "nbformat_minor": 5
}
