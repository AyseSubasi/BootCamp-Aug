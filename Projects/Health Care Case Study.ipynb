{
 "cells": [
  {
   "cell_type": "markdown",
   "id": "69b95351",
   "metadata": {},
   "source": [
    "https://docs.google.com/spreadsheets/d/1g3B3s0jgrSlp4WaX72PxdjlKvFW0CsZWY6YLN-Vvxpg/edit#gid=887729085"
   ]
  },
  {
   "cell_type": "code",
   "execution_count": null,
   "id": "331ddc5e",
   "metadata": {},
   "outputs": [],
   "source": []
  }
 ],
 "metadata": {
  "kernelspec": {
   "display_name": "Python 3",
   "language": "python",
   "name": "python3"
  },
  "language_info": {
   "codemirror_mode": {
    "name": "ipython",
    "version": 3
   },
   "file_extension": ".py",
   "mimetype": "text/x-python",
   "name": "python",
   "nbconvert_exporter": "python",
   "pygments_lexer": "ipython3",
   "version": "3.8.8"
  }
 },
 "nbformat": 4,
 "nbformat_minor": 5
}
