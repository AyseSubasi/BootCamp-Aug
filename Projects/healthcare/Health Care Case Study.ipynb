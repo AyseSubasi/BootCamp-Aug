{
 "cells": [
  {
   "cell_type": "markdown",
   "id": "31afb817",
   "metadata": {},
   "source": [
    "https://docs.google.com/spreadsheets/d/1g3B3s0jgrSlp4WaX72PxdjlKvFW0CsZWY6YLN-Vvxpg/edit#gid=887729085"
   ]
  },
  {
   "cell_type": "markdown",
   "id": "423e5906",
   "metadata": {},
   "source": [
    "Data wrangling/cleaning process using MS Excel:\n",
    "\n",
    "Standardizing header names\n",
    "Deleting and rearranging columns\n",
    "Working with data types\n",
    "Filtering data\n",
    "Removing duplicates\n",
    "Correcting typos\n",
    "Conditional Formatting\n",
    "Replacing null values\n",
    "\n",
    "More about data wrangling/cleaning using MS Excel:\n",
    "\n",
    "String functions\n",
    "Standardizing data\n",
    "ImportRange and indirect (use the same data with spreadsheets)\n",
    "Using V lookups/H lookups"
   ]
  },
  {
   "cell_type": "markdown",
   "id": "1895e994",
   "metadata": {},
   "source": [
    "* merged Files\n",
    "* removed duplicates\n",
    "* corrected typos in gender +state\n",
    "* Calulated the age\n",
    "\n"
   ]
  },
  {
   "cell_type": "code",
   "execution_count": null,
   "id": "5cfe5e4a",
   "metadata": {},
   "outputs": [],
   "source": []
  }
 ],
 "metadata": {
  "kernelspec": {
   "display_name": "Python 3",
   "language": "python",
   "name": "python3"
  },
  "language_info": {
   "codemirror_mode": {
    "name": "ipython",
    "version": 3
   },
   "file_extension": ".py",
   "mimetype": "text/x-python",
   "name": "python",
   "nbconvert_exporter": "python",
   "pygments_lexer": "ipython3",
   "version": "3.8.8"
  }
 },
 "nbformat": 4,
 "nbformat_minor": 5
}
