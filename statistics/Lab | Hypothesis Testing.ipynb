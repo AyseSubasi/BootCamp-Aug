{
 "cells": [
  {
   "cell_type": "code",
   "execution_count": 2,
   "id": "fd4c0205",
   "metadata": {},
   "outputs": [],
   "source": [
    "import numpy as np\n",
    "import pandas as pd\n",
    "import scipy.stats as stats\n",
    "import matplotlib.pyplot as plt\n",
    "import seaborn as sns"
   ]
  },
  {
   "cell_type": "markdown",
   "id": "a098d901",
   "metadata": {},
   "source": [
    "\n",
    "\n",
    "1. It is assumed that the mean systolic blood pressure is μ = 120 mm Hg. In the Honolulu Heart Study, a sample of n = 100 people had an average systolic blood pressure of 130.1 mm Hg with a standard deviation of 21.21 mm Hg. Is the group significantly different (with respect to systolic blood pressure!) from the regular population?\n",
    "\n",
    "    + Set up the hypothesis test.\n",
    "    + Write down all the steps followed for setting up the test.\n",
    "    + Calculate the test statistic by hand and also code it in Python. It should be 4.76190. What decision can       you make based on this calculated value?\n",
    "\n"
   ]
  },
  {
   "cell_type": "code",
   "execution_count": 8,
   "id": "963365b9",
   "metadata": {},
   "outputs": [],
   "source": [
    "mean=120\n",
    "n=100 #\n",
    "X=130.1\n",
    "standard_dev=21.21\n",
    "mean=120"
   ]
  },
  {
   "cell_type": "code",
   "execution_count": 9,
   "id": "aab17925",
   "metadata": {},
   "outputs": [],
   "source": [
    "#test statistic for a Z-test is the Z-statistic, which has the standard normal distribution under the null hypothesis\n",
    "#z = ( sample_mean - pop_mean ) / ( pop_std_dev / np.sqrt(45) )\n",
    "#z=X-mittelwert/standardabweichung\n",
    "\n",
    "z = ( X - mean )/( standard_dev / np.sqrt(n))"
   ]
  },
  {
   "cell_type": "code",
   "execution_count": 13,
   "id": "5db40f21",
   "metadata": {},
   "outputs": [
    {
     "name": "stdout",
     "output_type": "stream",
     "text": [
      "test statistic: 4.761904761904759\n"
     ]
    }
   ],
   "source": [
    "print(\"test statistic:\", z)"
   ]
  },
  {
   "cell_type": "code",
   "execution_count": 22,
   "id": "1cf56762",
   "metadata": {},
   "outputs": [
    {
     "data": {
      "text/plain": [
       "1.6448536269514722"
      ]
     },
     "execution_count": 22,
     "metadata": {},
     "output_type": "execute_result"
    }
   ],
   "source": [
    "zc = stats.norm.ppf(0.95)\n",
    "zc\n",
    "\n",
    "#The critical value corresponding to a 0.95 area of a normal distribution is: 1.64"
   ]
  },
  {
   "cell_type": "code",
   "execution_count": 28,
   "id": "8bdea1ef",
   "metadata": {},
   "outputs": [
    {
     "data": {
      "text/plain": [
       "1.959963984540054"
      ]
     },
     "execution_count": 28,
     "metadata": {},
     "output_type": "execute_result"
    }
   ],
   "source": [
    "zc = stats.norm.ppf(1-(0.05/2))\n",
    "zc"
   ]
  },
  {
   "cell_type": "markdown",
   "id": "7efc7ca4",
   "metadata": {},
   "source": [
    "What decision can you make based on this calculated value?\n",
    "\n",
    "there must be a significant difference from the regular population because HO is rejected \n",
    "\n",
    "#z= 4.761904761904759 > 1.6444 -> reject H0 (if z<1.96 -> H0 not rejected)"
   ]
  },
  {
   "cell_type": "markdown",
   "id": "8f83b731",
   "metadata": {},
   "source": [
    "# 2.\n",
    "\n",
    "We will have another simple example on two sample one sided t test. In a packing plant, a machine packs cartons with jars. It is supposed that a new machine will pack faster on the average than the machine currently used. To test that hypothesis, the times it takes each machine to pack ten cartons are recorded. The results, in seconds, are shown in the tables in the file Data/machine.txt. Assume that there is sufficient evidence to conduct the t test, does the data provide sufficient evidence to show if one machine is better than the other"
   ]
  },
  {
   "cell_type": "code",
   "execution_count": 14,
   "id": "7d0f92f1",
   "metadata": {},
   "outputs": [],
   "source": [
    "\n",
    "#2sided t-test:\n",
    "\n",
    "\n",
    "#H0: machine same\n",
    "#H1: new machine faster\n",
    "#n10\n",
    "\n",
    "\n",
    "#hypothesis: new machine will pack faster -> #HO "
   ]
  },
  {
   "cell_type": "code",
   "execution_count": 5,
   "id": "1955180b",
   "metadata": {},
   "outputs": [],
   "source": [
    "data=pd.read_csv(\"./Data_Machine.txt\", sep=\"\\t\")"
   ]
  },
  {
   "cell_type": "code",
   "execution_count": 6,
   "id": "552e449c",
   "metadata": {},
   "outputs": [
    {
     "data": {
      "text/html": [
       "<div>\n",
       "<style scoped>\n",
       "    .dataframe tbody tr th:only-of-type {\n",
       "        vertical-align: middle;\n",
       "    }\n",
       "\n",
       "    .dataframe tbody tr th {\n",
       "        vertical-align: top;\n",
       "    }\n",
       "\n",
       "    .dataframe thead th {\n",
       "        text-align: right;\n",
       "    }\n",
       "</style>\n",
       "<table border=\"1\" class=\"dataframe\">\n",
       "  <thead>\n",
       "    <tr style=\"text-align: right;\">\n",
       "      <th></th>\n",
       "      <th>New Machine</th>\n",
       "      <th>Old Machine</th>\n",
       "    </tr>\n",
       "  </thead>\n",
       "  <tbody>\n",
       "    <tr>\n",
       "      <th>0</th>\n",
       "      <td>42.1</td>\n",
       "      <td>42.7</td>\n",
       "    </tr>\n",
       "    <tr>\n",
       "      <th>1</th>\n",
       "      <td>41.0</td>\n",
       "      <td>43.6</td>\n",
       "    </tr>\n",
       "    <tr>\n",
       "      <th>2</th>\n",
       "      <td>41.3</td>\n",
       "      <td>43.8</td>\n",
       "    </tr>\n",
       "    <tr>\n",
       "      <th>3</th>\n",
       "      <td>41.8</td>\n",
       "      <td>43.3</td>\n",
       "    </tr>\n",
       "    <tr>\n",
       "      <th>4</th>\n",
       "      <td>42.4</td>\n",
       "      <td>42.5</td>\n",
       "    </tr>\n",
       "    <tr>\n",
       "      <th>5</th>\n",
       "      <td>42.8</td>\n",
       "      <td>43.5</td>\n",
       "    </tr>\n",
       "    <tr>\n",
       "      <th>6</th>\n",
       "      <td>43.2</td>\n",
       "      <td>43.1</td>\n",
       "    </tr>\n",
       "    <tr>\n",
       "      <th>7</th>\n",
       "      <td>42.3</td>\n",
       "      <td>41.7</td>\n",
       "    </tr>\n",
       "    <tr>\n",
       "      <th>8</th>\n",
       "      <td>41.8</td>\n",
       "      <td>44.0</td>\n",
       "    </tr>\n",
       "    <tr>\n",
       "      <th>9</th>\n",
       "      <td>42.7</td>\n",
       "      <td>44.1</td>\n",
       "    </tr>\n",
       "  </tbody>\n",
       "</table>\n",
       "</div>"
      ],
      "text/plain": [
       "   New Machine    Old Machine\n",
       "0         42.1           42.7\n",
       "1         41.0           43.6\n",
       "2         41.3           43.8\n",
       "3         41.8           43.3\n",
       "4         42.4           42.5\n",
       "5         42.8           43.5\n",
       "6         43.2           43.1\n",
       "7         42.3           41.7\n",
       "8         41.8           44.0\n",
       "9         42.7           44.1"
      ]
     },
     "execution_count": 6,
     "metadata": {},
     "output_type": "execute_result"
    }
   ],
   "source": [
    "data"
   ]
  },
  {
   "cell_type": "code",
   "execution_count": 12,
   "id": "0f88a03b",
   "metadata": {},
   "outputs": [],
   "source": [
    "data.columns = [\"new_machine\", \"new_machine\"]"
   ]
  },
  {
   "cell_type": "code",
   "execution_count": 21,
   "id": "b35d00f7",
   "metadata": {},
   "outputs": [
    {
     "name": "stdout",
     "output_type": "stream",
     "text": [
      "Sample mean of the new machine is: 42.14\n",
      "Sample mean of the old machine is: 43.230000000000004\n"
     ]
    }
   ],
   "source": [
    "#1.mean\n",
    "\n",
    "\n",
    "\n",
    "mean_newmach=np.mean(data[\"new_machine\"])\n",
    "mean_oldmach=np.mean(data[\"old_machine\"])\n",
    "\n",
    "print(\"Sample mean of the new machine is:\" , mean_newmach)\n",
    "print(\"Sample mean of the old machine is:\" , mean_oldmach)"
   ]
  },
  {
   "cell_type": "code",
   "execution_count": 26,
   "id": "fba2273c",
   "metadata": {},
   "outputs": [
    {
     "name": "stdout",
     "output_type": "stream",
     "text": [
      "The sample standard deviation of the new machine is: 0.6483826030978941\n",
      "The sample standard deviation of the old machine is: 0.7114070564732956\n"
     ]
    }
   ],
   "source": [
    "#2.std\n",
    "\n",
    "std_newmach=np.std(data[\"new_machine\"])\n",
    "std_oldmach=np.std(data[\"old_machine\"])\n",
    "n_newmach=10\n",
    "n_oldmach=10\n",
    "\n",
    "\n",
    "print(\"The sample standard deviation of the new machine is:\" , std_newmach)\n",
    "print(\"The sample standard deviation of the old machine is:\" , std_oldmach)"
   ]
  },
  {
   "cell_type": "code",
   "execution_count": 35,
   "id": "d9bbb4f1",
   "metadata": {},
   "outputs": [
    {
     "name": "stdout",
     "output_type": "stream",
     "text": [
      "t value:  -3.3972307061176026\n"
     ]
    }
   ],
   "source": [
    "t = ( mean_newmach - mean_oldmach ) / np.sqrt( ((std_newmach**2)/9) + ((std_oldmach**2)/9 ))\n",
    "print(\"t value: \", t)\n",
    "#we need to use the t-Student distribution. The number of degrees of freedom is n-1 from the smallest sample size"
   ]
  },
  {
   "cell_type": "code",
   "execution_count": 33,
   "id": "dc839764",
   "metadata": {},
   "outputs": [
    {
     "name": "stdout",
     "output_type": "stream",
     "text": [
      "t critcal value:  2.10092204024096\n"
     ]
    },
    {
     "data": {
      "text/plain": [
       "2.10092204024096"
      ]
     },
     "execution_count": 33,
     "metadata": {},
     "output_type": "execute_result"
    }
   ],
   "source": [
    "#df = sample_size_1 + sample_size_2 - 2 = 18\n",
    "tc = stats.t.ppf(1-(0.05/2),df = 18)\n",
    "print(\"t critcal value: \", tc)\n",
    "tc"
   ]
  },
  {
   "cell_type": "code",
   "execution_count": null,
   "id": "1bbb4b1d",
   "metadata": {},
   "outputs": [],
   "source": [
    "#tc>t - > recejt H0-> machine is faster"
   ]
  }
 ],
 "metadata": {
  "kernelspec": {
   "display_name": "Python 3",
   "language": "python",
   "name": "python3"
  },
  "language_info": {
   "codemirror_mode": {
    "name": "ipython",
    "version": 3
   },
   "file_extension": ".py",
   "mimetype": "text/x-python",
   "name": "python",
   "nbconvert_exporter": "python",
   "pygments_lexer": "ipython3",
   "version": "3.8.8"
  }
 },
 "nbformat": 4,
 "nbformat_minor": 5
}
