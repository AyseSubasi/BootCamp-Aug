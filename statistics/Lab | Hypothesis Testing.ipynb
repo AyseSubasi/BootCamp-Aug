{
 "cells": [
  {
   "cell_type": "code",
   "execution_count": 1,
   "id": "cfb43214",
   "metadata": {},
   "outputs": [],
   "source": [
    "import numpy as np\n",
    "import pandas as pd\n",
    "import scipy.stats as stats\n",
    "import matplotlib.pyplot as plt\n",
    "import seaborn as sns"
   ]
  },
  {
   "cell_type": "markdown",
   "id": "e823247f",
   "metadata": {},
   "source": [
    "\n",
    "\n",
    "1. It is assumed that the mean systolic blood pressure is μ = 120 mm Hg. In the Honolulu Heart Study, a sample of n = 100 people had an average systolic blood pressure of 130.1 mm Hg with a standard deviation of 21.21 mm Hg. Is the group significantly different (with respect to systolic blood pressure!) from the regular population?\n",
    "\n",
    "    + Set up the hypothesis test.\n",
    "    + Write down all the steps followed for setting up the test.\n",
    "    + Calculate the test statistic by hand and also code it in Python. It should be 4.76190. What decision can       you make based on this calculated value?\n",
    "\n"
   ]
  },
  {
   "cell_type": "code",
   "execution_count": 8,
   "id": "40c276f5",
   "metadata": {},
   "outputs": [],
   "source": [
    "mean=120\n",
    "n=100 #\n",
    "X=130.1\n",
    "standard_dev=21.21\n",
    "mean=120"
   ]
  },
  {
   "cell_type": "code",
   "execution_count": 9,
   "id": "8d0a162e",
   "metadata": {},
   "outputs": [],
   "source": [
    "#test statistic for a Z-test is the Z-statistic, which has the standard normal distribution under the null hypothesis\n",
    "#z = ( sample_mean - pop_mean ) / ( pop_std_dev / np.sqrt(45) )\n",
    "#z=X-mittelwert/standardabweichung\n",
    "\n",
    "z = ( X - mean )/( standard_dev / np.sqrt(n))"
   ]
  },
  {
   "cell_type": "code",
   "execution_count": 13,
   "id": "6da955bc",
   "metadata": {},
   "outputs": [
    {
     "name": "stdout",
     "output_type": "stream",
     "text": [
      "test statistic: 4.761904761904759\n"
     ]
    }
   ],
   "source": [
    "print(\"test statistic:\", z)"
   ]
  },
  {
   "cell_type": "code",
   "execution_count": 22,
   "id": "d9c58b1b",
   "metadata": {},
   "outputs": [
    {
     "data": {
      "text/plain": [
       "1.6448536269514722"
      ]
     },
     "execution_count": 22,
     "metadata": {},
     "output_type": "execute_result"
    }
   ],
   "source": [
    "zc = stats.norm.ppf(0.95)\n",
    "zc\n",
    "\n",
    "#The critical value corresponding to a 0.95 area of a normal distribution is: 1.64"
   ]
  },
  {
   "cell_type": "code",
   "execution_count": 23,
   "id": "fab10505",
   "metadata": {},
   "outputs": [
    {
     "data": {
      "text/plain": [
       "1.959963984540054"
      ]
     },
     "execution_count": 23,
     "metadata": {},
     "output_type": "execute_result"
    }
   ],
   "source": [
    "zc = stats.norm.ppf(1-(0.05/2))\n",
    "zc"
   ]
  },
  {
   "cell_type": "markdown",
   "id": "29dbfbaf",
   "metadata": {},
   "source": [
    "What decision can you make based on this calculated value?\n",
    "\n",
    "there must be a significant difference from the regular population because HO is rejected \n",
    "\n",
    "#z= 4.761904761904759 > 1.6444 -> reject H0 (if z<1.96 -> H0 not rejected)"
   ]
  },
  {
   "cell_type": "code",
   "execution_count": null,
   "id": "cec66468",
   "metadata": {},
   "outputs": [],
   "source": [
    "zc = stats.norm.ppf(0.98)"
   ]
  }
 ],
 "metadata": {
  "kernelspec": {
   "display_name": "Python 3",
   "language": "python",
   "name": "python3"
  },
  "language_info": {
   "codemirror_mode": {
    "name": "ipython",
    "version": 3
   },
   "file_extension": ".py",
   "mimetype": "text/x-python",
   "name": "python",
   "nbconvert_exporter": "python",
   "pygments_lexer": "ipython3",
   "version": "3.8.8"
  }
 },
 "nbformat": 4,
 "nbformat_minor": 5
}
