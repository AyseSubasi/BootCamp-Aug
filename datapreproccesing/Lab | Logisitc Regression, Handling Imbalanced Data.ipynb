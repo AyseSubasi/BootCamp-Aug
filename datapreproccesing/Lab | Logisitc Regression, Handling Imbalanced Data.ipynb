{
 "cells": [
  {
   "cell_type": "markdown",
   "id": "d637e61d",
   "metadata": {},
   "source": [
    "+ Import the required libraries and modules that you would need.\n",
    "+ Read that data into Python and call the dataframe churnData.\n",
    "+ Check the datatypes of all the columns in the data. You would see that the column TotalCharges is object  type. Convert this column into numeric type using pd.to_numeric function.\n",
    "+ Check for null values in the dataframe. Replace the null values.\n",
    "+ Use the following features: tenure, SeniorCitizen, MonthlyCharges and TotalCharges:\n",
    "\n",
    "    Scale the features either by using normalizer or a standard scaler.\n",
    "    Split the data into a training set and a test set.\n",
    "    Fit a logistic regression model on the training data.\"\n",
    "    Check the accuracy on the test data\n"
   ]
  },
  {
   "cell_type": "code",
   "execution_count": 43,
   "id": "aee3b4ee",
   "metadata": {},
   "outputs": [],
   "source": [
    "import pandas as pd \n",
    "import numpy as np\n",
    "import warnings\n",
    "warnings.filterwarnings('ignore')\n",
    "from imblearn.over_sampling import SMOTE\n",
    "from imblearn.under_sampling import TomekLinks\n",
    "from sklearn.model_selection import train_test_split\n",
    "from sklearn.preprocessing import StandardScaler\n",
    "from sklearn.linear_model import LogisticRegression\n",
    "from sklearn.preprocessing import PowerTransformer\n",
    "from sklearn.utils import resample\n",
    "import statsmodels.api as sm\n",
    "# from sklearn.k doenst work"
   ]
  },
  {
   "cell_type": "code",
   "execution_count": 2,
   "id": "9b204cfa",
   "metadata": {},
   "outputs": [],
   "source": [
    "churnData= pd.read_csv(\"./DATA_Customer-Churn.csv\")"
   ]
  },
  {
   "cell_type": "code",
   "execution_count": 3,
   "id": "b9dddd3c",
   "metadata": {},
   "outputs": [
    {
     "data": {
      "text/plain": [
       "gender               object\n",
       "SeniorCitizen         int64\n",
       "Partner              object\n",
       "Dependents           object\n",
       "tenure                int64\n",
       "PhoneService         object\n",
       "OnlineSecurity       object\n",
       "OnlineBackup         object\n",
       "DeviceProtection     object\n",
       "TechSupport          object\n",
       "StreamingTV          object\n",
       "StreamingMovies      object\n",
       "Contract             object\n",
       "MonthlyCharges      float64\n",
       "TotalCharges         object\n",
       "Churn                object\n",
       "dtype: object"
      ]
     },
     "execution_count": 3,
     "metadata": {},
     "output_type": "execute_result"
    }
   ],
   "source": [
    "churnData.dtypes #checking dtypes - > convert totalcharges"
   ]
  },
  {
   "cell_type": "code",
   "execution_count": 4,
   "id": "00d043fd",
   "metadata": {},
   "outputs": [],
   "source": [
    "#convert total charge\n",
    "\n",
    "churnData[\"TotalCharges\"] =churnData[\"TotalCharges\"].apply(pd.to_numeric, errors='coerce')"
   ]
  },
  {
   "cell_type": "code",
   "execution_count": 5,
   "id": "dd51318a",
   "metadata": {},
   "outputs": [
    {
     "data": {
      "text/plain": [
       "gender               object\n",
       "SeniorCitizen         int64\n",
       "Partner              object\n",
       "Dependents           object\n",
       "tenure                int64\n",
       "PhoneService         object\n",
       "OnlineSecurity       object\n",
       "OnlineBackup         object\n",
       "DeviceProtection     object\n",
       "TechSupport          object\n",
       "StreamingTV          object\n",
       "StreamingMovies      object\n",
       "Contract             object\n",
       "MonthlyCharges      float64\n",
       "TotalCharges        float64\n",
       "Churn                object\n",
       "dtype: object"
      ]
     },
     "execution_count": 5,
     "metadata": {},
     "output_type": "execute_result"
    }
   ],
   "source": [
    "churnData.dtypes"
   ]
  },
  {
   "cell_type": "code",
   "execution_count": 6,
   "id": "0de4637c",
   "metadata": {},
   "outputs": [
    {
     "data": {
      "text/plain": [
       "gender               0\n",
       "SeniorCitizen        0\n",
       "Partner              0\n",
       "Dependents           0\n",
       "tenure               0\n",
       "PhoneService         0\n",
       "OnlineSecurity       0\n",
       "OnlineBackup         0\n",
       "DeviceProtection     0\n",
       "TechSupport          0\n",
       "StreamingTV          0\n",
       "StreamingMovies      0\n",
       "Contract             0\n",
       "MonthlyCharges       0\n",
       "TotalCharges        11\n",
       "Churn                0\n",
       "dtype: int64"
      ]
     },
     "execution_count": 6,
     "metadata": {},
     "output_type": "execute_result"
    }
   ],
   "source": [
    "#checking null values\n",
    "\n",
    "churnData.isna().sum()"
   ]
  },
  {
   "cell_type": "code",
   "execution_count": 7,
   "id": "fef7da08",
   "metadata": {},
   "outputs": [],
   "source": [
    "churnData['TotalCharges'] = churnData['TotalCharges'].replace([' '],'0')"
   ]
  },
  {
   "cell_type": "code",
   "execution_count": 8,
   "id": "4cfefc49",
   "metadata": {},
   "outputs": [
    {
     "data": {
      "text/plain": [
       "gender               0\n",
       "SeniorCitizen        0\n",
       "Partner              0\n",
       "Dependents           0\n",
       "tenure               0\n",
       "PhoneService         0\n",
       "OnlineSecurity       0\n",
       "OnlineBackup         0\n",
       "DeviceProtection     0\n",
       "TechSupport          0\n",
       "StreamingTV          0\n",
       "StreamingMovies      0\n",
       "Contract             0\n",
       "MonthlyCharges       0\n",
       "TotalCharges        11\n",
       "Churn                0\n",
       "dtype: int64"
      ]
     },
     "execution_count": 8,
     "metadata": {},
     "output_type": "execute_result"
    }
   ],
   "source": [
    "churnData.isna().sum()"
   ]
  },
  {
   "cell_type": "code",
   "execution_count": 9,
   "id": "8f2b3905",
   "metadata": {},
   "outputs": [
    {
     "data": {
      "text/plain": [
       "(7043, 16)"
      ]
     },
     "execution_count": 9,
     "metadata": {},
     "output_type": "execute_result"
    }
   ],
   "source": [
    "churnData.shape"
   ]
  },
  {
   "cell_type": "code",
   "execution_count": 10,
   "id": "abec1683",
   "metadata": {},
   "outputs": [],
   "source": [
    "churnData=churnData.dropna(axis=\"index\")"
   ]
  },
  {
   "cell_type": "code",
   "execution_count": 11,
   "id": "98088a05",
   "metadata": {},
   "outputs": [
    {
     "data": {
      "text/plain": [
       "gender              0\n",
       "SeniorCitizen       0\n",
       "Partner             0\n",
       "Dependents          0\n",
       "tenure              0\n",
       "PhoneService        0\n",
       "OnlineSecurity      0\n",
       "OnlineBackup        0\n",
       "DeviceProtection    0\n",
       "TechSupport         0\n",
       "StreamingTV         0\n",
       "StreamingMovies     0\n",
       "Contract            0\n",
       "MonthlyCharges      0\n",
       "TotalCharges        0\n",
       "Churn               0\n",
       "dtype: int64"
      ]
     },
     "execution_count": 11,
     "metadata": {},
     "output_type": "execute_result"
    }
   ],
   "source": [
    "churnData.isna().sum()"
   ]
  },
  {
   "cell_type": "code",
   "execution_count": 12,
   "id": "99d6d216",
   "metadata": {},
   "outputs": [],
   "source": [
    "#Use the following features: tenure, SeniorCitizen, MonthlyCharges and TotalCharges ->numerical\n",
    "\n",
    "#Scale the features either by using normalizer or a standard scaler.\n",
    "\n",
    "churn_feat=churnData[[\"tenure\" , \"SeniorCitizen\", \"MonthlyCharges\", \"TotalCharges\"]]"
   ]
  },
  {
   "cell_type": "code",
   "execution_count": 13,
   "id": "7c7247e2",
   "metadata": {},
   "outputs": [
    {
     "data": {
      "text/html": [
       "<div>\n",
       "<style scoped>\n",
       "    .dataframe tbody tr th:only-of-type {\n",
       "        vertical-align: middle;\n",
       "    }\n",
       "\n",
       "    .dataframe tbody tr th {\n",
       "        vertical-align: top;\n",
       "    }\n",
       "\n",
       "    .dataframe thead th {\n",
       "        text-align: right;\n",
       "    }\n",
       "</style>\n",
       "<table border=\"1\" class=\"dataframe\">\n",
       "  <thead>\n",
       "    <tr style=\"text-align: right;\">\n",
       "      <th></th>\n",
       "      <th>tenure</th>\n",
       "      <th>SeniorCitizen</th>\n",
       "      <th>MonthlyCharges</th>\n",
       "      <th>TotalCharges</th>\n",
       "    </tr>\n",
       "  </thead>\n",
       "  <tbody>\n",
       "    <tr>\n",
       "      <th>0</th>\n",
       "      <td>1</td>\n",
       "      <td>0</td>\n",
       "      <td>29.85</td>\n",
       "      <td>29.85</td>\n",
       "    </tr>\n",
       "    <tr>\n",
       "      <th>1</th>\n",
       "      <td>34</td>\n",
       "      <td>0</td>\n",
       "      <td>56.95</td>\n",
       "      <td>1889.50</td>\n",
       "    </tr>\n",
       "    <tr>\n",
       "      <th>2</th>\n",
       "      <td>2</td>\n",
       "      <td>0</td>\n",
       "      <td>53.85</td>\n",
       "      <td>108.15</td>\n",
       "    </tr>\n",
       "    <tr>\n",
       "      <th>3</th>\n",
       "      <td>45</td>\n",
       "      <td>0</td>\n",
       "      <td>42.30</td>\n",
       "      <td>1840.75</td>\n",
       "    </tr>\n",
       "    <tr>\n",
       "      <th>4</th>\n",
       "      <td>2</td>\n",
       "      <td>0</td>\n",
       "      <td>70.70</td>\n",
       "      <td>151.65</td>\n",
       "    </tr>\n",
       "    <tr>\n",
       "      <th>...</th>\n",
       "      <td>...</td>\n",
       "      <td>...</td>\n",
       "      <td>...</td>\n",
       "      <td>...</td>\n",
       "    </tr>\n",
       "    <tr>\n",
       "      <th>7038</th>\n",
       "      <td>24</td>\n",
       "      <td>0</td>\n",
       "      <td>84.80</td>\n",
       "      <td>1990.50</td>\n",
       "    </tr>\n",
       "    <tr>\n",
       "      <th>7039</th>\n",
       "      <td>72</td>\n",
       "      <td>0</td>\n",
       "      <td>103.20</td>\n",
       "      <td>7362.90</td>\n",
       "    </tr>\n",
       "    <tr>\n",
       "      <th>7040</th>\n",
       "      <td>11</td>\n",
       "      <td>0</td>\n",
       "      <td>29.60</td>\n",
       "      <td>346.45</td>\n",
       "    </tr>\n",
       "    <tr>\n",
       "      <th>7041</th>\n",
       "      <td>4</td>\n",
       "      <td>1</td>\n",
       "      <td>74.40</td>\n",
       "      <td>306.60</td>\n",
       "    </tr>\n",
       "    <tr>\n",
       "      <th>7042</th>\n",
       "      <td>66</td>\n",
       "      <td>0</td>\n",
       "      <td>105.65</td>\n",
       "      <td>6844.50</td>\n",
       "    </tr>\n",
       "  </tbody>\n",
       "</table>\n",
       "<p>7032 rows × 4 columns</p>\n",
       "</div>"
      ],
      "text/plain": [
       "      tenure  SeniorCitizen  MonthlyCharges  TotalCharges\n",
       "0          1              0           29.85         29.85\n",
       "1         34              0           56.95       1889.50\n",
       "2          2              0           53.85        108.15\n",
       "3         45              0           42.30       1840.75\n",
       "4          2              0           70.70        151.65\n",
       "...      ...            ...             ...           ...\n",
       "7038      24              0           84.80       1990.50\n",
       "7039      72              0          103.20       7362.90\n",
       "7040      11              0           29.60        346.45\n",
       "7041       4              1           74.40        306.60\n",
       "7042      66              0          105.65       6844.50\n",
       "\n",
       "[7032 rows x 4 columns]"
      ]
     },
     "execution_count": 13,
     "metadata": {},
     "output_type": "execute_result"
    }
   ],
   "source": [
    "churn_feat"
   ]
  },
  {
   "cell_type": "code",
   "execution_count": 14,
   "id": "a1a4cbf3",
   "metadata": {},
   "outputs": [],
   "source": [
    "\n",
    "X=churnData[[\"tenure\" , \"SeniorCitizen\", \"MonthlyCharges\", \"TotalCharges\"]]\n",
    "y=churnData[\"Churn\"]"
   ]
  },
  {
   "cell_type": "code",
   "execution_count": 15,
   "id": "51473a70",
   "metadata": {},
   "outputs": [],
   "source": [
    "X_train, X_test, y_train, y_test = train_test_split(X, y, test_size=0.30, random_state=42) #split data"
   ]
  },
  {
   "cell_type": "code",
   "execution_count": 16,
   "id": "badf4f53",
   "metadata": {},
   "outputs": [],
   "source": [
    "scaler = StandardScaler() #transform data\n",
    "scaler.fit(X_train)\n",
    "X_test = scaler.transform(X_test)\n",
    "X_train = scaler.transform(X_train)"
   ]
  },
  {
   "cell_type": "code",
   "execution_count": 17,
   "id": "73a7caac",
   "metadata": {},
   "outputs": [
    {
     "data": {
      "text/plain": [
       "0.7915244596131968"
      ]
     },
     "execution_count": 17,
     "metadata": {},
     "output_type": "execute_result"
    }
   ],
   "source": [
    "#    Fit a logistic regression model on the training data.\"\n",
    "\n",
    "\n",
    "clf= LogisticRegression(random_state=0).fit(X, y)#classification\n",
    "clf.predict(X_test)\n",
    "clf.score(X, y)\n"
   ]
  },
  {
   "cell_type": "code",
   "execution_count": 18,
   "id": "61ec7304",
   "metadata": {},
   "outputs": [],
   "source": [
    "#Check the accuracy on the test data\n",
    "\n",
    "\n",
    "from sklearn.metrics import accuracy_score, precision_score, recall_score, confusion_matrix\n",
    "from sklearn.metrics import plot_confusion_matrix\n",
    "from sklearn.tree import DecisionTreeRegressor\n",
    "from sklearn.tree import DecisionTreeClassifier"
   ]
  },
  {
   "cell_type": "code",
   "execution_count": 19,
   "id": "5af7bbf9",
   "metadata": {},
   "outputs": [
    {
     "name": "stdout",
     "output_type": "stream",
     "text": [
      "The Accuracy on the test data: 0.771563981042654\n"
     ]
    }
   ],
   "source": [
    "dt = DecisionTreeClassifier(max_depth=3)\n",
    "\n",
    "dt.fit(X_train, y_train)\n",
    "\n",
    "y_pred_train_dt = dt.predict(X_train)\n",
    "y_pred_test_dt = dt.predict(X_test)\n",
    "print(\"The Accuracy on the test data:\" , dt.score(X_test, y_test))"
   ]
  },
  {
   "cell_type": "markdown",
   "id": "cde887c4",
   "metadata": {},
   "source": [
    "Note: So far we have not balanced the data.\n",
    "\n",
    "Managing imbalance in the dataset\n",
    "\n",
    "    Check for the imbalance.\n",
    "    Use the resampling strategies used in class for upsampling and downsampling to create a balance between the two classes.\n",
    "    Each time fit the model and see how the accuracy of the model is.\n"
   ]
  },
  {
   "cell_type": "code",
   "execution_count": 20,
   "id": "b1c29e7f",
   "metadata": {},
   "outputs": [
    {
     "data": {
      "text/plain": [
       "No     5163\n",
       "Yes    1869\n",
       "Name: Churn, dtype: int64"
      ]
     },
     "execution_count": 20,
     "metadata": {},
     "output_type": "execute_result"
    }
   ],
   "source": [
    "# check for the imbalance : #huge inbalance Category 0 ->5174\n",
    "\n",
    "churnData['Churn'].value_counts()"
   ]
  },
  {
   "cell_type": "markdown",
   "id": "ee1cdb59",
   "metadata": {},
   "source": [
    "### Upsampling Smote"
   ]
  },
  {
   "cell_type": "code",
   "execution_count": 21,
   "id": "1fcd4fb5",
   "metadata": {},
   "outputs": [],
   "source": [
    "y_smote = churnData['Churn']\n",
    "X_smote = churnData[['TotalCharges','tenure', 'SeniorCitizen','MonthlyCharges']]"
   ]
  },
  {
   "cell_type": "code",
   "execution_count": 22,
   "id": "5eb9d535",
   "metadata": {},
   "outputs": [],
   "source": [
    "\n",
    "\n",
    "from imblearn.over_sampling import SMOTE\n",
    "smote = SMOTE()\n",
    "\n"
   ]
  },
  {
   "cell_type": "code",
   "execution_count": 23,
   "id": "3685d7b1",
   "metadata": {},
   "outputs": [
    {
     "data": {
      "text/plain": [
       "No     5163\n",
       "Yes    5163\n",
       "Name: Churn, dtype: int64"
      ]
     },
     "execution_count": 23,
     "metadata": {},
     "output_type": "execute_result"
    }
   ],
   "source": [
    "\n",
    "Xsm, ysm = smote.fit_resample(X, y)\n",
    "ysm.value_counts()"
   ]
  },
  {
   "cell_type": "markdown",
   "id": "9e541731",
   "metadata": {},
   "source": [
    "### Upsamling smote fitting model"
   ]
  },
  {
   "cell_type": "code",
   "execution_count": 24,
   "id": "09aea90f",
   "metadata": {},
   "outputs": [],
   "source": [
    "Xsm_train, Xsm_test, ysm_train, ysm_test = train_test_split(Xsm, ysm, test_size=0.30, random_state=42) #split data"
   ]
  },
  {
   "cell_type": "code",
   "execution_count": 25,
   "id": "8ca32745",
   "metadata": {},
   "outputs": [
    {
     "data": {
      "text/plain": [
       "0.7289366647298082"
      ]
     },
     "execution_count": 25,
     "metadata": {},
     "output_type": "execute_result"
    }
   ],
   "source": [
    "clf= LogisticRegression(random_state=0).fit(Xsm, ysm)#classification\n",
    "clf.predict(Xsm_test)\n",
    "clf.score(Xsm, ysm)"
   ]
  },
  {
   "cell_type": "code",
   "execution_count": 26,
   "id": "dfca73e2",
   "metadata": {},
   "outputs": [
    {
     "name": "stdout",
     "output_type": "stream",
     "text": [
      "The Accuracy of the Smote Model: 0.7220787604906391\n"
     ]
    }
   ],
   "source": [
    "dt = DecisionTreeClassifier(max_depth=3)\n",
    "\n",
    "dt.fit(Xsm_train, ysm_train)\n",
    "\n",
    "clf= LogisticRegression(random_state=0).fit(Xsm, ysm)#classification\n",
    "clf.predict(Xsm_test)\n",
    "clf.score(Xsm, ysm)\n",
    "print(\"The Accuracy of the Smote Model:\" , dt.score(Xsm_test, ysm_test))"
   ]
  },
  {
   "cell_type": "code",
   "execution_count": null,
   "id": "0cfe88c2",
   "metadata": {},
   "outputs": [],
   "source": []
  },
  {
   "cell_type": "markdown",
   "id": "b6dab763",
   "metadata": {},
   "source": [
    "## Downsampling -Tomeklinks"
   ]
  },
  {
   "cell_type": "code",
   "execution_count": 27,
   "id": "bee2ae92",
   "metadata": {},
   "outputs": [
    {
     "data": {
      "text/plain": [
       "No     4609\n",
       "Yes    1869\n",
       "Name: Churn, dtype: int64"
      ]
     },
     "execution_count": 27,
     "metadata": {},
     "output_type": "execute_result"
    }
   ],
   "source": [
    "tl = TomekLinks('majority')\n",
    "X_tl, y_tl = tl.fit_resample(X, y)\n",
    "y_tl.value_counts()"
   ]
  },
  {
   "cell_type": "markdown",
   "id": "3e8588f9",
   "metadata": {},
   "source": [
    "## Downsampling"
   ]
  },
  {
   "cell_type": "code",
   "execution_count": 38,
   "id": "03184cd6",
   "metadata": {},
   "outputs": [],
   "source": [
    "category_Yes = churnData[churnData['Churn'] == \"Yes\"]\n",
    "category_No = churnData[churnData['Churn'] == \"No\"]"
   ]
  },
  {
   "cell_type": "code",
   "execution_count": 40,
   "id": "015ede60",
   "metadata": {},
   "outputs": [
    {
     "name": "stdout",
     "output_type": "stream",
     "text": [
      "(1869, 16)\n",
      "(5163, 16)\n"
     ]
    }
   ],
   "source": [
    "print(category_Yes.shape) #smaller\n",
    "print(category_No.shape) #bigger"
   ]
  },
  {
   "cell_type": "code",
   "execution_count": 44,
   "id": "f5d84648",
   "metadata": {},
   "outputs": [],
   "source": [
    "category_Yes_down = resample(category_Yes, replace=True,n_samples = len(category_No))"
   ]
  },
  {
   "cell_type": "code",
   "execution_count": 46,
   "id": "15b68722",
   "metadata": {},
   "outputs": [
    {
     "name": "stdout",
     "output_type": "stream",
     "text": [
      "(5163, 16)\n",
      "(5163, 16)\n"
     ]
    }
   ],
   "source": [
    "print(category_Yes_down.shape)\n",
    "print(category_No.shape)"
   ]
  },
  {
   "cell_type": "code",
   "execution_count": 47,
   "id": "a6b0c51b",
   "metadata": {},
   "outputs": [
    {
     "data": {
      "text/plain": [
       "No     5163\n",
       "Yes    5163\n",
       "Name: Churn, dtype: int64"
      ]
     },
     "execution_count": 47,
     "metadata": {},
     "output_type": "execute_result"
    }
   ],
   "source": [
    "churnData_down = pd.concat([category_Yes_down, category_No], axis=0)\n",
    "churnData_down = churnData_down.sample(frac=1)\n",
    "churnData_down[\"Churn\"].value_counts()"
   ]
  },
  {
   "cell_type": "markdown",
   "id": "9c1bbf71",
   "metadata": {},
   "source": [
    "## Model"
   ]
  },
  {
   "cell_type": "code",
   "execution_count": 48,
   "id": "e68447fb",
   "metadata": {},
   "outputs": [],
   "source": [
    "ydown = churnData['Churn']\n",
    "Xdown = churnData[['TotalCharges','tenure', 'SeniorCitizen','MonthlyCharges']]"
   ]
  },
  {
   "cell_type": "code",
   "execution_count": null,
   "id": "45c7faa3",
   "metadata": {},
   "outputs": [],
   "source": [
    "Xdown_train, Xdown_test, ydown_train, ydown_test = train_test_split(Xsm, ysm, test_size=0.30, random_state=42) #split data"
   ]
  }
 ],
 "metadata": {
  "kernelspec": {
   "display_name": "Python 3",
   "language": "python",
   "name": "python3"
  },
  "language_info": {
   "codemirror_mode": {
    "name": "ipython",
    "version": 3
   },
   "file_extension": ".py",
   "mimetype": "text/x-python",
   "name": "python",
   "nbconvert_exporter": "python",
   "pygments_lexer": "ipython3",
   "version": "3.8.8"
  }
 },
 "nbformat": 4,
 "nbformat_minor": 5
}
