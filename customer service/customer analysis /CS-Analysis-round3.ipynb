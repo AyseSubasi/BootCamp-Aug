{
 "cells": [
  {
   "cell_type": "code",
   "execution_count": 1,
   "id": "5efd9079",
   "metadata": {},
   "outputs": [],
   "source": [
    "import pandas as pd\n",
    "import numpy as np\n",
    "import matplotlib.pyplot as plt\n",
    "import seaborn as sns"
   ]
  },
  {
   "cell_type": "markdown",
   "id": "09031a41",
   "metadata": {},
   "source": [
    "# Pipeline"
   ]
  },
  {
   "cell_type": "code",
   "execution_count": 8,
   "id": "76b6903a",
   "metadata": {},
   "outputs": [
    {
     "name": "stdout",
     "output_type": "stream",
     "text": [
      "<class 'pandas.core.frame.DataFrame'>\n",
      "RangeIndex: 10910 entries, 0 to 10909\n",
      "Data columns (total 26 columns):\n",
      " #   Column                         Non-Null Count  Dtype  \n",
      "---  ------                         --------------  -----  \n",
      " 0   unnamed:_0                     10910 non-null  int64  \n",
      " 1   customer                       10910 non-null  object \n",
      " 2   state                          10279 non-null  object \n",
      " 3   customer_lifetime_value        10910 non-null  float64\n",
      " 4   response                       10279 non-null  object \n",
      " 5   coverage                       10910 non-null  object \n",
      " 6   education                      10910 non-null  object \n",
      " 7   effective_to_date              10910 non-null  object \n",
      " 8   employmentstatus               10910 non-null  object \n",
      " 9   gender                         10910 non-null  object \n",
      " 10  income                         10910 non-null  int64  \n",
      " 11  location_code                  10910 non-null  object \n",
      " 12  marital_status                 10910 non-null  object \n",
      " 13  monthly_premium_auto           10910 non-null  int64  \n",
      " 14  months_since_last_claim        10910 non-null  float64\n",
      " 15  months_since_policy_inception  10910 non-null  int64  \n",
      " 16  number_of_open_complaints      10910 non-null  float64\n",
      " 17  number_of_policies             10910 non-null  int64  \n",
      " 18  policy_type                    10910 non-null  object \n",
      " 19  policy                         10910 non-null  object \n",
      " 20  renew_offer_type               10910 non-null  object \n",
      " 21  sales_channel                  10910 non-null  object \n",
      " 22  total_claim_amount             10910 non-null  float64\n",
      " 23  vehicle_class                  10288 non-null  object \n",
      " 24  vehicle_size                   10288 non-null  object \n",
      " 25  vehicle_type                   5428 non-null   object \n",
      "dtypes: float64(4), int64(5), object(17)\n",
      "memory usage: 2.2+ MB\n"
     ]
    }
   ],
   "source": [
    "cs_2 = read_customer_data().pipe(standardize).pipe(dup).pipe(fill_null)\n",
    "cs_2.info()"
   ]
  },
  {
   "cell_type": "markdown",
   "id": "d2609604",
   "metadata": {},
   "source": [
    "# Cleaning with functions"
   ]
  },
  {
   "cell_type": "code",
   "execution_count": 4,
   "id": "4f44e6ff",
   "metadata": {},
   "outputs": [],
   "source": [
    "#reading date:\n",
    "\n",
    "def read_customer_data():\n",
    "    return pd.read_csv(\"./Data_Marketing_Customer_Analysis_Round2.csv\")"
   ]
  },
  {
   "cell_type": "code",
   "execution_count": 5,
   "id": "af189aa0",
   "metadata": {},
   "outputs": [],
   "source": [
    "#standardizing column names:\n",
    "\n",
    "def standardize(cs_2):\n",
    "    new_columns = cs_2.columns.str.lower().str.replace(\" \", \"_\")\n",
    "    cs_2.columns = new_columns\n",
    "    return cs_2"
   ]
  },
  {
   "cell_type": "code",
   "execution_count": 6,
   "id": "89c32e08",
   "metadata": {},
   "outputs": [],
   "source": [
    "#duplicates\n",
    "\n",
    "def dup(cs_2):\n",
    "    cs_2 = cs_2.drop_duplicates().reset_index()\n",
    "    cs_2.drop(columns=[\"index\"], inplace=True)\n",
    "    return cs_2"
   ]
  },
  {
   "cell_type": "code",
   "execution_count": 7,
   "id": "8ef63798",
   "metadata": {},
   "outputs": [],
   "source": [
    "#Replacing null values ->mean\n",
    "def fill_null(cs_2):\n",
    "    cs_2[\"number_of_open_complaints\"] = cs_2[\"number_of_open_complaints\"].fillna(value=0)\n",
    "    mean_months = round(cs_2[\"months_since_last_claim\"].mean())\n",
    "    cs_2[\"months_since_last_claim\"] = cs_2[\"months_since_last_claim\"].fillna(value=mean_months)\n",
    "    mean_income = round(cs_2[\"income\"].mean())\n",
    "    cs_2[\"income\"] = cs_2[\"income\"].fillna(value=mean_income)\n",
    "    return cs_2"
   ]
  },
  {
   "cell_type": "markdown",
   "id": "696fd573",
   "metadata": {},
   "source": [
    "## Activity 2"
   ]
  },
  {
   "cell_type": "code",
   "execution_count": 9,
   "id": "f3bdd9d8",
   "metadata": {},
   "outputs": [],
   "source": [
    "# bucketing data state groups\n",
    "\n",
    "def state_group(x):\n",
    "    \n",
    "    #nan values\n",
    "    if not x==x:\n",
    "        return x\n",
    "    else:\n",
    "        dct_ = {\"Washington\":\"west_coast\" ,\n",
    "                \"Arizona\": \"midwest\" ,\n",
    "                \"Nevada\": \"west_coast\" ,\n",
    "                \"California\": \"west_coast\" ,\n",
    "                \"Oregon\": \"west_coast\" ,\n",
    "               }\n",
    "        return dct_[x]\n",
    "\n",
    "\n",
    "cs_2[\"state\"] = cs_2[\"state\"].apply(state_group)"
   ]
  },
  {
   "cell_type": "code",
   "execution_count": 10,
   "id": "bc253c4d",
   "metadata": {},
   "outputs": [
    {
     "name": "stdout",
     "output_type": "stream",
     "text": [
      "<class 'pandas.core.frame.DataFrame'>\n",
      "RangeIndex: 10910 entries, 0 to 10909\n",
      "Data columns (total 26 columns):\n",
      " #   Column                         Non-Null Count  Dtype  \n",
      "---  ------                         --------------  -----  \n",
      " 0   unnamed:_0                     10910 non-null  int64  \n",
      " 1   customer                       10910 non-null  object \n",
      " 2   state                          10279 non-null  object \n",
      " 3   customer_lifetime_value        10910 non-null  float64\n",
      " 4   response                       10279 non-null  object \n",
      " 5   coverage                       10910 non-null  object \n",
      " 6   education                      10910 non-null  object \n",
      " 7   effective_to_date              10910 non-null  object \n",
      " 8   employmentstatus               10910 non-null  object \n",
      " 9   gender                         10910 non-null  object \n",
      " 10  income                         10910 non-null  int64  \n",
      " 11  location_code                  10910 non-null  object \n",
      " 12  marital_status                 10910 non-null  object \n",
      " 13  monthly_premium_auto           10910 non-null  int64  \n",
      " 14  months_since_last_claim        10910 non-null  float64\n",
      " 15  months_since_policy_inception  10910 non-null  int64  \n",
      " 16  number_of_open_complaints      10910 non-null  float64\n",
      " 17  number_of_policies             10910 non-null  int64  \n",
      " 18  policy_type                    10910 non-null  object \n",
      " 19  policy                         10910 non-null  object \n",
      " 20  renew_offer_type               10910 non-null  object \n",
      " 21  sales_channel                  10910 non-null  object \n",
      " 22  total_claim_amount             10910 non-null  float64\n",
      " 23  vehicle_class                  10288 non-null  object \n",
      " 24  vehicle_size                   10288 non-null  object \n",
      " 25  vehicle_type                   5428 non-null   object \n",
      "dtypes: float64(4), int64(5), object(17)\n",
      "memory usage: 2.2+ MB\n"
     ]
    }
   ],
   "source": [
    "cs_2.info()"
   ]
  },
  {
   "cell_type": "markdown",
   "id": "b9d7006c",
   "metadata": {},
   "source": [
    "## Activity 3"
   ]
  },
  {
   "cell_type": "code",
   "execution_count": 11,
   "id": "fcfa6076",
   "metadata": {},
   "outputs": [
    {
     "data": {
      "text/plain": [
       "0        2/18/11\n",
       "1        1/18/11\n",
       "2        2/10/11\n",
       "3        1/11/11\n",
       "4        1/17/11\n",
       "          ...   \n",
       "10905    1/19/11\n",
       "10906     1/6/11\n",
       "10907     2/6/11\n",
       "10908    2/13/11\n",
       "10909     1/8/11\n",
       "Name: effective_to_date, Length: 10910, dtype: object"
      ]
     },
     "execution_count": 11,
     "metadata": {},
     "output_type": "execute_result"
    }
   ],
   "source": [
    "cs_2[\"effective_to_date\"]"
   ]
  },
  {
   "cell_type": "code",
   "execution_count": 13,
   "id": "0c1cfb9f",
   "metadata": {},
   "outputs": [],
   "source": [
    "\n",
    "#set to datetime set\n",
    "\n",
    "cs_2[\"effective_to_date\"] = pd.to_datetime(cs_2[\"effective_to_date\"])"
   ]
  },
  {
   "cell_type": "code",
   "execution_count": null,
   "id": "a726df33",
   "metadata": {},
   "outputs": [],
   "source": [
    "cs_2[\"month\"]=list(map(lambda date:date.strftime (format=%B),df[\"date\"]))"
   ]
  },
  {
   "cell_type": "code",
   "execution_count": null,
   "id": "acf055d6",
   "metadata": {},
   "outputs": [],
   "source": [
    "cs_2[\"effective to date\"]"
   ]
  },
  {
   "cell_type": "code",
   "execution_count": 16,
   "id": "6c77b475",
   "metadata": {},
   "outputs": [],
   "source": [
    "#store in new column month\n",
    "\n",
    "cs_2[\"month\"] = pd.DatetimeIndex(cs_2[\"effective_to_date\"]).month"
   ]
  },
  {
   "cell_type": "code",
   "execution_count": null,
   "id": "c539dc1c",
   "metadata": {},
   "outputs": [],
   "source": [
    "#show information of first quarter"
   ]
  },
  {
   "cell_type": "code",
   "execution_count": 17,
   "id": "94ccf4c9",
   "metadata": {},
   "outputs": [
    {
     "data": {
      "text/plain": [
       "array([2, 1])"
      ]
     },
     "execution_count": 17,
     "metadata": {},
     "output_type": "execute_result"
    }
   ],
   "source": [
    "cs_2[\"month\"].unique() \n",
    "\n",
    "#no march"
   ]
  },
  {
   "cell_type": "code",
   "execution_count": 18,
   "id": "552cdf2d",
   "metadata": {},
   "outputs": [
    {
     "data": {
      "text/plain": [
       "count    10910.000000\n",
       "mean         1.466728\n",
       "std          0.498915\n",
       "min          1.000000\n",
       "25%          1.000000\n",
       "50%          1.000000\n",
       "75%          2.000000\n",
       "max          2.000000\n",
       "Name: month, dtype: float64"
      ]
     },
     "execution_count": 18,
     "metadata": {},
     "output_type": "execute_result"
    }
   ],
   "source": [
    "# filter data to show information of first quarter\n",
    "\n",
    "cs_2.month.describe()"
   ]
  },
  {
   "cell_type": "code",
   "execution_count": 19,
   "id": "0647b7f6",
   "metadata": {},
   "outputs": [
    {
     "data": {
      "text/html": [
       "<div>\n",
       "<style scoped>\n",
       "    .dataframe tbody tr th:only-of-type {\n",
       "        vertical-align: middle;\n",
       "    }\n",
       "\n",
       "    .dataframe tbody tr th {\n",
       "        vertical-align: top;\n",
       "    }\n",
       "\n",
       "    .dataframe thead th {\n",
       "        text-align: right;\n",
       "    }\n",
       "</style>\n",
       "<table border=\"1\" class=\"dataframe\">\n",
       "  <thead>\n",
       "    <tr style=\"text-align: right;\">\n",
       "      <th></th>\n",
       "      <th>unnamed:_0</th>\n",
       "      <th>customer</th>\n",
       "      <th>state</th>\n",
       "      <th>customer_lifetime_value</th>\n",
       "      <th>response</th>\n",
       "      <th>coverage</th>\n",
       "      <th>education</th>\n",
       "      <th>effective_to_date</th>\n",
       "      <th>employmentstatus</th>\n",
       "      <th>gender</th>\n",
       "      <th>...</th>\n",
       "      <th>number_of_policies</th>\n",
       "      <th>policy_type</th>\n",
       "      <th>policy</th>\n",
       "      <th>renew_offer_type</th>\n",
       "      <th>sales_channel</th>\n",
       "      <th>total_claim_amount</th>\n",
       "      <th>vehicle_class</th>\n",
       "      <th>vehicle_size</th>\n",
       "      <th>vehicle_type</th>\n",
       "      <th>month</th>\n",
       "    </tr>\n",
       "  </thead>\n",
       "  <tbody>\n",
       "    <tr>\n",
       "      <th>0</th>\n",
       "      <td>0</td>\n",
       "      <td>DK49336</td>\n",
       "      <td>midwest</td>\n",
       "      <td>4809.216960</td>\n",
       "      <td>No</td>\n",
       "      <td>Basic</td>\n",
       "      <td>College</td>\n",
       "      <td>2011-02-18</td>\n",
       "      <td>Employed</td>\n",
       "      <td>M</td>\n",
       "      <td>...</td>\n",
       "      <td>9</td>\n",
       "      <td>Corporate Auto</td>\n",
       "      <td>Corporate L3</td>\n",
       "      <td>Offer3</td>\n",
       "      <td>Agent</td>\n",
       "      <td>292.800000</td>\n",
       "      <td>Four-Door Car</td>\n",
       "      <td>Medsize</td>\n",
       "      <td>NaN</td>\n",
       "      <td>2</td>\n",
       "    </tr>\n",
       "    <tr>\n",
       "      <th>2</th>\n",
       "      <td>2</td>\n",
       "      <td>LZ68649</td>\n",
       "      <td>west_coast</td>\n",
       "      <td>14947.917300</td>\n",
       "      <td>No</td>\n",
       "      <td>Basic</td>\n",
       "      <td>Bachelor</td>\n",
       "      <td>2011-02-10</td>\n",
       "      <td>Employed</td>\n",
       "      <td>M</td>\n",
       "      <td>...</td>\n",
       "      <td>2</td>\n",
       "      <td>Personal Auto</td>\n",
       "      <td>Personal L3</td>\n",
       "      <td>Offer3</td>\n",
       "      <td>Call Center</td>\n",
       "      <td>480.000000</td>\n",
       "      <td>SUV</td>\n",
       "      <td>Medsize</td>\n",
       "      <td>A</td>\n",
       "      <td>2</td>\n",
       "    </tr>\n",
       "    <tr>\n",
       "      <th>5</th>\n",
       "      <td>5</td>\n",
       "      <td>HO81102</td>\n",
       "      <td>NaN</td>\n",
       "      <td>4745.181764</td>\n",
       "      <td>NaN</td>\n",
       "      <td>Basic</td>\n",
       "      <td>High School or Below</td>\n",
       "      <td>2011-02-14</td>\n",
       "      <td>Employed</td>\n",
       "      <td>M</td>\n",
       "      <td>...</td>\n",
       "      <td>7</td>\n",
       "      <td>Personal Auto</td>\n",
       "      <td>Personal L3</td>\n",
       "      <td>Offer1</td>\n",
       "      <td>Agent</td>\n",
       "      <td>292.800000</td>\n",
       "      <td>Four-Door Car</td>\n",
       "      <td>Medsize</td>\n",
       "      <td>A</td>\n",
       "      <td>2</td>\n",
       "    </tr>\n",
       "    <tr>\n",
       "      <th>6</th>\n",
       "      <td>6</td>\n",
       "      <td>IW72280</td>\n",
       "      <td>west_coast</td>\n",
       "      <td>5035.035257</td>\n",
       "      <td>No</td>\n",
       "      <td>Basic</td>\n",
       "      <td>Doctor</td>\n",
       "      <td>2011-02-14</td>\n",
       "      <td>Employed</td>\n",
       "      <td>F</td>\n",
       "      <td>...</td>\n",
       "      <td>4</td>\n",
       "      <td>Corporate Auto</td>\n",
       "      <td>Corporate L2</td>\n",
       "      <td>Offer2</td>\n",
       "      <td>Branch</td>\n",
       "      <td>287.556107</td>\n",
       "      <td>Four-Door Car</td>\n",
       "      <td>Medsize</td>\n",
       "      <td>NaN</td>\n",
       "      <td>2</td>\n",
       "    </tr>\n",
       "    <tr>\n",
       "      <th>7</th>\n",
       "      <td>7</td>\n",
       "      <td>IH64929</td>\n",
       "      <td>west_coast</td>\n",
       "      <td>4956.247235</td>\n",
       "      <td>No</td>\n",
       "      <td>Basic</td>\n",
       "      <td>High School or Below</td>\n",
       "      <td>2011-02-24</td>\n",
       "      <td>Employed</td>\n",
       "      <td>M</td>\n",
       "      <td>...</td>\n",
       "      <td>3</td>\n",
       "      <td>Personal Auto</td>\n",
       "      <td>Personal L2</td>\n",
       "      <td>Offer2</td>\n",
       "      <td>Branch</td>\n",
       "      <td>247.402353</td>\n",
       "      <td>Two-Door Car</td>\n",
       "      <td>Medsize</td>\n",
       "      <td>NaN</td>\n",
       "      <td>2</td>\n",
       "    </tr>\n",
       "    <tr>\n",
       "      <th>...</th>\n",
       "      <td>...</td>\n",
       "      <td>...</td>\n",
       "      <td>...</td>\n",
       "      <td>...</td>\n",
       "      <td>...</td>\n",
       "      <td>...</td>\n",
       "      <td>...</td>\n",
       "      <td>...</td>\n",
       "      <td>...</td>\n",
       "      <td>...</td>\n",
       "      <td>...</td>\n",
       "      <td>...</td>\n",
       "      <td>...</td>\n",
       "      <td>...</td>\n",
       "      <td>...</td>\n",
       "      <td>...</td>\n",
       "      <td>...</td>\n",
       "      <td>...</td>\n",
       "      <td>...</td>\n",
       "      <td>...</td>\n",
       "      <td>...</td>\n",
       "    </tr>\n",
       "    <tr>\n",
       "      <th>10899</th>\n",
       "      <td>10899</td>\n",
       "      <td>WU60905</td>\n",
       "      <td>west_coast</td>\n",
       "      <td>8610.667489</td>\n",
       "      <td>No</td>\n",
       "      <td>Basic</td>\n",
       "      <td>High School or Below</td>\n",
       "      <td>2011-02-06</td>\n",
       "      <td>Unemployed</td>\n",
       "      <td>F</td>\n",
       "      <td>...</td>\n",
       "      <td>9</td>\n",
       "      <td>Corporate Auto</td>\n",
       "      <td>Corporate L1</td>\n",
       "      <td>Offer3</td>\n",
       "      <td>Web</td>\n",
       "      <td>532.800000</td>\n",
       "      <td>SUV</td>\n",
       "      <td>Medsize</td>\n",
       "      <td>A</td>\n",
       "      <td>2</td>\n",
       "    </tr>\n",
       "    <tr>\n",
       "      <th>10900</th>\n",
       "      <td>10900</td>\n",
       "      <td>VN73653</td>\n",
       "      <td>west_coast</td>\n",
       "      <td>6423.739052</td>\n",
       "      <td>No</td>\n",
       "      <td>Basic</td>\n",
       "      <td>College</td>\n",
       "      <td>2011-02-13</td>\n",
       "      <td>Unemployed</td>\n",
       "      <td>M</td>\n",
       "      <td>...</td>\n",
       "      <td>1</td>\n",
       "      <td>Corporate Auto</td>\n",
       "      <td>Corporate L2</td>\n",
       "      <td>Offer3</td>\n",
       "      <td>Agent</td>\n",
       "      <td>1621.560425</td>\n",
       "      <td>Luxury SUV</td>\n",
       "      <td>Medsize</td>\n",
       "      <td>NaN</td>\n",
       "      <td>2</td>\n",
       "    </tr>\n",
       "    <tr>\n",
       "      <th>10904</th>\n",
       "      <td>10904</td>\n",
       "      <td>QI63521</td>\n",
       "      <td>west_coast</td>\n",
       "      <td>19228.463620</td>\n",
       "      <td>No</td>\n",
       "      <td>Basic</td>\n",
       "      <td>High School or Below</td>\n",
       "      <td>2011-02-24</td>\n",
       "      <td>Unemployed</td>\n",
       "      <td>M</td>\n",
       "      <td>...</td>\n",
       "      <td>2</td>\n",
       "      <td>Personal Auto</td>\n",
       "      <td>Personal L2</td>\n",
       "      <td>Offer1</td>\n",
       "      <td>Branch</td>\n",
       "      <td>897.600000</td>\n",
       "      <td>Luxury SUV</td>\n",
       "      <td>Medsize</td>\n",
       "      <td>A</td>\n",
       "      <td>2</td>\n",
       "    </tr>\n",
       "    <tr>\n",
       "      <th>10907</th>\n",
       "      <td>10907</td>\n",
       "      <td>TL39050</td>\n",
       "      <td>midwest</td>\n",
       "      <td>23893.304100</td>\n",
       "      <td>No</td>\n",
       "      <td>Extended</td>\n",
       "      <td>Bachelor</td>\n",
       "      <td>2011-02-06</td>\n",
       "      <td>Employed</td>\n",
       "      <td>F</td>\n",
       "      <td>...</td>\n",
       "      <td>2</td>\n",
       "      <td>Corporate Auto</td>\n",
       "      <td>Corporate L3</td>\n",
       "      <td>Offer1</td>\n",
       "      <td>Web</td>\n",
       "      <td>381.306996</td>\n",
       "      <td>Luxury SUV</td>\n",
       "      <td>Medsize</td>\n",
       "      <td>NaN</td>\n",
       "      <td>2</td>\n",
       "    </tr>\n",
       "    <tr>\n",
       "      <th>10908</th>\n",
       "      <td>10908</td>\n",
       "      <td>WA60547</td>\n",
       "      <td>west_coast</td>\n",
       "      <td>11971.977650</td>\n",
       "      <td>No</td>\n",
       "      <td>Premium</td>\n",
       "      <td>College</td>\n",
       "      <td>2011-02-13</td>\n",
       "      <td>Employed</td>\n",
       "      <td>F</td>\n",
       "      <td>...</td>\n",
       "      <td>6</td>\n",
       "      <td>Personal Auto</td>\n",
       "      <td>Personal L1</td>\n",
       "      <td>Offer1</td>\n",
       "      <td>Branch</td>\n",
       "      <td>618.288849</td>\n",
       "      <td>SUV</td>\n",
       "      <td>Medsize</td>\n",
       "      <td>A</td>\n",
       "      <td>2</td>\n",
       "    </tr>\n",
       "  </tbody>\n",
       "</table>\n",
       "<p>5092 rows × 27 columns</p>\n",
       "</div>"
      ],
      "text/plain": [
       "       unnamed:_0 customer       state  customer_lifetime_value response  \\\n",
       "0               0  DK49336     midwest              4809.216960       No   \n",
       "2               2  LZ68649  west_coast             14947.917300       No   \n",
       "5               5  HO81102         NaN              4745.181764      NaN   \n",
       "6               6  IW72280  west_coast              5035.035257       No   \n",
       "7               7  IH64929  west_coast              4956.247235       No   \n",
       "...           ...      ...         ...                      ...      ...   \n",
       "10899       10899  WU60905  west_coast              8610.667489       No   \n",
       "10900       10900  VN73653  west_coast              6423.739052       No   \n",
       "10904       10904  QI63521  west_coast             19228.463620       No   \n",
       "10907       10907  TL39050     midwest             23893.304100       No   \n",
       "10908       10908  WA60547  west_coast             11971.977650       No   \n",
       "\n",
       "       coverage             education effective_to_date employmentstatus  \\\n",
       "0         Basic               College        2011-02-18         Employed   \n",
       "2         Basic              Bachelor        2011-02-10         Employed   \n",
       "5         Basic  High School or Below        2011-02-14         Employed   \n",
       "6         Basic                Doctor        2011-02-14         Employed   \n",
       "7         Basic  High School or Below        2011-02-24         Employed   \n",
       "...         ...                   ...               ...              ...   \n",
       "10899     Basic  High School or Below        2011-02-06       Unemployed   \n",
       "10900     Basic               College        2011-02-13       Unemployed   \n",
       "10904     Basic  High School or Below        2011-02-24       Unemployed   \n",
       "10907  Extended              Bachelor        2011-02-06         Employed   \n",
       "10908   Premium               College        2011-02-13         Employed   \n",
       "\n",
       "      gender  ...  number_of_policies     policy_type        policy  \\\n",
       "0          M  ...                   9  Corporate Auto  Corporate L3   \n",
       "2          M  ...                   2   Personal Auto   Personal L3   \n",
       "5          M  ...                   7   Personal Auto   Personal L3   \n",
       "6          F  ...                   4  Corporate Auto  Corporate L2   \n",
       "7          M  ...                   3   Personal Auto   Personal L2   \n",
       "...      ...  ...                 ...             ...           ...   \n",
       "10899      F  ...                   9  Corporate Auto  Corporate L1   \n",
       "10900      M  ...                   1  Corporate Auto  Corporate L2   \n",
       "10904      M  ...                   2   Personal Auto   Personal L2   \n",
       "10907      F  ...                   2  Corporate Auto  Corporate L3   \n",
       "10908      F  ...                   6   Personal Auto   Personal L1   \n",
       "\n",
       "       renew_offer_type  sales_channel  total_claim_amount  vehicle_class  \\\n",
       "0                Offer3          Agent          292.800000  Four-Door Car   \n",
       "2                Offer3    Call Center          480.000000            SUV   \n",
       "5                Offer1          Agent          292.800000  Four-Door Car   \n",
       "6                Offer2         Branch          287.556107  Four-Door Car   \n",
       "7                Offer2         Branch          247.402353   Two-Door Car   \n",
       "...                 ...            ...                 ...            ...   \n",
       "10899            Offer3            Web          532.800000            SUV   \n",
       "10900            Offer3          Agent         1621.560425     Luxury SUV   \n",
       "10904            Offer1         Branch          897.600000     Luxury SUV   \n",
       "10907            Offer1            Web          381.306996     Luxury SUV   \n",
       "10908            Offer1         Branch          618.288849            SUV   \n",
       "\n",
       "       vehicle_size vehicle_type month  \n",
       "0           Medsize          NaN     2  \n",
       "2           Medsize            A     2  \n",
       "5           Medsize            A     2  \n",
       "6           Medsize          NaN     2  \n",
       "7           Medsize          NaN     2  \n",
       "...             ...          ...   ...  \n",
       "10899       Medsize            A     2  \n",
       "10900       Medsize          NaN     2  \n",
       "10904       Medsize            A     2  \n",
       "10907       Medsize          NaN     2  \n",
       "10908       Medsize            A     2  \n",
       "\n",
       "[5092 rows x 27 columns]"
      ]
     },
     "execution_count": 19,
     "metadata": {},
     "output_type": "execute_result"
    }
   ],
   "source": [
    "cs_2[cs_2[\"month\"] >=2] #data first quarter"
   ]
  },
  {
   "cell_type": "markdown",
   "id": "7a8493d5",
   "metadata": {},
   "source": [
    "# Activty 4 Plotting"
   ]
  },
  {
   "cell_type": "markdown",
   "id": "b4e40d69",
   "metadata": {},
   "source": [
    "## Plot: Number of responses"
   ]
  },
  {
   "cell_type": "code",
   "execution_count": 20,
   "id": "7c655ae2",
   "metadata": {},
   "outputs": [
    {
     "data": {
      "text/plain": [
       "No     8813\n",
       "Yes    1466\n",
       "Name: response, dtype: int64"
      ]
     },
     "execution_count": 20,
     "metadata": {},
     "output_type": "execute_result"
    }
   ],
   "source": [
    "# Number of responses:\n",
    "\n",
    "number_of_response=cs_2[\"response\"].value_counts()\n",
    "number_of_response"
   ]
  },
  {
   "cell_type": "code",
   "execution_count": 21,
   "id": "5eaca60f",
   "metadata": {},
   "outputs": [
    {
     "data": {
      "text/plain": [
       "<AxesSubplot:title={'center':'Number of responses'}, ylabel='response'>"
      ]
     },
     "execution_count": 21,
     "metadata": {},
     "output_type": "execute_result"
    },
    {
     "data": {
      "image/png": "[encoded data removed]",
      "text/plain": [
       "<Figure size 432x288 with 1 Axes>"
      ]
     },
     "metadata": {
      "needs_background": "light"
     },
     "output_type": "display_data"
    }
   ],
   "source": [
    "fig1, ax1 = plt.subplots()\n",
    "ax1.set_title(\"Number of responses\")\n",
    "\n",
    "sns.barplot(x=number_of_response.index ,y =number_of_response)\n"
   ]
  },
  {
   "cell_type": "markdown",
   "id": "f428ec1f",
   "metadata": {},
   "source": [
    "## Plot: Response rate by channel"
   ]
  },
  {
   "cell_type": "code",
   "execution_count": 23,
   "id": "f31a274e",
   "metadata": {},
   "outputs": [],
   "source": [
    "response_rate= cs_2.groupby([\"sales_channel\",'response']).size().reset_index(name=\"Count\")\n"
   ]
  },
  {
   "cell_type": "code",
   "execution_count": 24,
   "id": "3c2961d7",
   "metadata": {},
   "outputs": [
    {
     "data": {
      "text/html": [
       "<div>\n",
       "<style scoped>\n",
       "    .dataframe tbody tr th:only-of-type {\n",
       "        vertical-align: middle;\n",
       "    }\n",
       "\n",
       "    .dataframe tbody tr th {\n",
       "        vertical-align: top;\n",
       "    }\n",
       "\n",
       "    .dataframe thead th {\n",
       "        text-align: right;\n",
       "    }\n",
       "</style>\n",
       "<table border=\"1\" class=\"dataframe\">\n",
       "  <thead>\n",
       "    <tr style=\"text-align: right;\">\n",
       "      <th></th>\n",
       "      <th>sales_channel</th>\n",
       "      <th>response</th>\n",
       "      <th>Count</th>\n",
       "    </tr>\n",
       "  </thead>\n",
       "  <tbody>\n",
       "    <tr>\n",
       "      <th>0</th>\n",
       "      <td>Agent</td>\n",
       "      <td>No</td>\n",
       "      <td>3148</td>\n",
       "    </tr>\n",
       "    <tr>\n",
       "      <th>1</th>\n",
       "      <td>Agent</td>\n",
       "      <td>Yes</td>\n",
       "      <td>742</td>\n",
       "    </tr>\n",
       "    <tr>\n",
       "      <th>2</th>\n",
       "      <td>Branch</td>\n",
       "      <td>No</td>\n",
       "      <td>2539</td>\n",
       "    </tr>\n",
       "    <tr>\n",
       "      <th>3</th>\n",
       "      <td>Branch</td>\n",
       "      <td>Yes</td>\n",
       "      <td>326</td>\n",
       "    </tr>\n",
       "    <tr>\n",
       "      <th>4</th>\n",
       "      <td>Call Center</td>\n",
       "      <td>No</td>\n",
       "      <td>1792</td>\n",
       "    </tr>\n",
       "    <tr>\n",
       "      <th>5</th>\n",
       "      <td>Call Center</td>\n",
       "      <td>Yes</td>\n",
       "      <td>221</td>\n",
       "    </tr>\n",
       "    <tr>\n",
       "      <th>6</th>\n",
       "      <td>Web</td>\n",
       "      <td>No</td>\n",
       "      <td>1334</td>\n",
       "    </tr>\n",
       "    <tr>\n",
       "      <th>7</th>\n",
       "      <td>Web</td>\n",
       "      <td>Yes</td>\n",
       "      <td>177</td>\n",
       "    </tr>\n",
       "  </tbody>\n",
       "</table>\n",
       "</div>"
      ],
      "text/plain": [
       "  sales_channel response  Count\n",
       "0         Agent       No   3148\n",
       "1         Agent      Yes    742\n",
       "2        Branch       No   2539\n",
       "3        Branch      Yes    326\n",
       "4   Call Center       No   1792\n",
       "5   Call Center      Yes    221\n",
       "6           Web       No   1334\n",
       "7           Web      Yes    177"
      ]
     },
     "execution_count": 24,
     "metadata": {},
     "output_type": "execute_result"
    }
   ],
   "source": [
    "response_rate"
   ]
  },
  {
   "cell_type": "code",
   "execution_count": 26,
   "id": "aa94378e",
   "metadata": {},
   "outputs": [
    {
     "data": {
      "text/plain": [
       "<AxesSubplot:title={'center':'Response rate by channel'}, xlabel='response', ylabel='Count'>"
      ]
     },
     "execution_count": 26,
     "metadata": {},
     "output_type": "execute_result"
    },
    {
     "data": {
      "image/png": "[encoded data removed]",
      "text/plain": [
       "<Figure size 432x288 with 1 Axes>"
      ]
     },
     "metadata": {
      "needs_background": "light"
     },
     "output_type": "display_data"
    }
   ],
   "source": [
    "fig2, ax2 =plt.subplots ()\n",
    "\n",
    "ax2.set_title(\"Response rate by channel\")\n",
    "\n",
    "sns.barplot(x=response_rate[\"response\"], y=response_rate[\"Count\"], hue= response_rate[\"sales_channel\"])"
   ]
  },
  {
   "cell_type": "markdown",
   "id": "b733d27a",
   "metadata": {},
   "source": [
    "## Plot: response rate by the total claim amount"
   ]
  },
  {
   "cell_type": "code",
   "execution_count": 27,
   "id": "ed736e1f",
   "metadata": {},
   "outputs": [],
   "source": [
    "response_total_claim=cs_2.groupby([\"total_claim_amount\", \"response\"]).size().reset_index()\n"
   ]
  },
  {
   "cell_type": "code",
   "execution_count": 28,
   "id": "0a1d4c29",
   "metadata": {},
   "outputs": [
    {
     "data": {
      "text/html": [
       "<div>\n",
       "<style scoped>\n",
       "    .dataframe tbody tr th:only-of-type {\n",
       "        vertical-align: middle;\n",
       "    }\n",
       "\n",
       "    .dataframe tbody tr th {\n",
       "        vertical-align: top;\n",
       "    }\n",
       "\n",
       "    .dataframe thead th {\n",
       "        text-align: right;\n",
       "    }\n",
       "</style>\n",
       "<table border=\"1\" class=\"dataframe\">\n",
       "  <thead>\n",
       "    <tr style=\"text-align: right;\">\n",
       "      <th></th>\n",
       "      <th>total_claim_amount</th>\n",
       "      <th>response</th>\n",
       "      <th>0</th>\n",
       "    </tr>\n",
       "  </thead>\n",
       "  <tbody>\n",
       "    <tr>\n",
       "      <th>0</th>\n",
       "      <td>0.099007</td>\n",
       "      <td>No</td>\n",
       "      <td>1</td>\n",
       "    </tr>\n",
       "    <tr>\n",
       "      <th>1</th>\n",
       "      <td>0.382107</td>\n",
       "      <td>No</td>\n",
       "      <td>2</td>\n",
       "    </tr>\n",
       "    <tr>\n",
       "      <th>2</th>\n",
       "      <td>0.423310</td>\n",
       "      <td>No</td>\n",
       "      <td>2</td>\n",
       "    </tr>\n",
       "    <tr>\n",
       "      <th>3</th>\n",
       "      <td>0.517753</td>\n",
       "      <td>No</td>\n",
       "      <td>1</td>\n",
       "    </tr>\n",
       "    <tr>\n",
       "      <th>4</th>\n",
       "      <td>0.769185</td>\n",
       "      <td>No</td>\n",
       "      <td>1</td>\n",
       "    </tr>\n",
       "    <tr>\n",
       "      <th>...</th>\n",
       "      <td>...</td>\n",
       "      <td>...</td>\n",
       "      <td>...</td>\n",
       "    </tr>\n",
       "    <tr>\n",
       "      <th>5161</th>\n",
       "      <td>2345.413441</td>\n",
       "      <td>No</td>\n",
       "      <td>1</td>\n",
       "    </tr>\n",
       "    <tr>\n",
       "      <th>5162</th>\n",
       "      <td>2452.894264</td>\n",
       "      <td>No</td>\n",
       "      <td>1</td>\n",
       "    </tr>\n",
       "    <tr>\n",
       "      <th>5163</th>\n",
       "      <td>2552.343856</td>\n",
       "      <td>No</td>\n",
       "      <td>2</td>\n",
       "    </tr>\n",
       "    <tr>\n",
       "      <th>5164</th>\n",
       "      <td>2759.794354</td>\n",
       "      <td>No</td>\n",
       "      <td>1</td>\n",
       "    </tr>\n",
       "    <tr>\n",
       "      <th>5165</th>\n",
       "      <td>2893.239678</td>\n",
       "      <td>No</td>\n",
       "      <td>1</td>\n",
       "    </tr>\n",
       "  </tbody>\n",
       "</table>\n",
       "<p>5166 rows × 3 columns</p>\n",
       "</div>"
      ],
      "text/plain": [
       "      total_claim_amount response  0\n",
       "0               0.099007       No  1\n",
       "1               0.382107       No  2\n",
       "2               0.423310       No  2\n",
       "3               0.517753       No  1\n",
       "4               0.769185       No  1\n",
       "...                  ...      ... ..\n",
       "5161         2345.413441       No  1\n",
       "5162         2452.894264       No  1\n",
       "5163         2552.343856       No  2\n",
       "5164         2759.794354       No  1\n",
       "5165         2893.239678       No  1\n",
       "\n",
       "[5166 rows x 3 columns]"
      ]
     },
     "execution_count": 28,
     "metadata": {},
     "output_type": "execute_result"
    }
   ],
   "source": [
    "response_total_claim"
   ]
  },
  {
   "cell_type": "code",
   "execution_count": 30,
   "id": "7aac6a74",
   "metadata": {},
   "outputs": [
    {
     "data": {
      "text/plain": [
       "<seaborn.axisgrid.FacetGrid at 0x7ff689b38640>"
      ]
     },
     "execution_count": 30,
     "metadata": {},
     "output_type": "execute_result"
    },
    {
     "data": {
      "image/png": "[encoded data removed]",
      "text/plain": [
       "<Figure size 360x360 with 1 Axes>"
      ]
     },
     "metadata": {
      "needs_background": "light"
     },
     "output_type": "display_data"
    }
   ],
   "source": [
    "sns.catplot(x='response', y='total_claim_amount', data = cs_2, kind= \"box\")\n"
   ]
  },
  {
   "cell_type": "markdown",
   "id": "eb33d1b4",
   "metadata": {},
   "source": [
    "## Plot: Response rate by income."
   ]
  },
  {
   "cell_type": "code",
   "execution_count": null,
   "id": "fede80cf",
   "metadata": {},
   "outputs": [],
   "source": [
    "response_income=cs_2.groupby([\"response\"]).count()[\"income\"].reset_index()"
   ]
  },
  {
   "cell_type": "code",
   "execution_count": null,
   "id": "d5e1bec8",
   "metadata": {},
   "outputs": [],
   "source": [
    "response_income"
   ]
  },
  {
   "cell_type": "code",
   "execution_count": null,
   "id": "dfd3bb13",
   "metadata": {},
   "outputs": [],
   "source": [
    "tips = sns.load_dataset(\"tips\")\n",
    "\n",
    "g = sns.lmplot(x=\"total_bill\", y=\"tip\", data=tips)"
   ]
  },
  {
   "cell_type": "code",
   "execution_count": null,
   "id": "7538bc54",
   "metadata": {},
   "outputs": [],
   "source": [
    "##Correlation Heatmap."
   ]
  }
 ],
 "metadata": {
  "kernelspec": {
   "display_name": "Python 3",
   "language": "python",
   "name": "python3"
  },
  "language_info": {
   "codemirror_mode": {
    "name": "ipython",
    "version": 3
   },
   "file_extension": ".py",
   "mimetype": "text/x-python",
   "name": "python",
   "nbconvert_exporter": "python",
   "pygments_lexer": "ipython3",
   "version": "3.8.8"
  }
 },
 "nbformat": 4,
 "nbformat_minor": 5
}
